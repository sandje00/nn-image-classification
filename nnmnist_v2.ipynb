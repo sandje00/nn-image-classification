{
  "nbformat": 4,
  "nbformat_minor": 0,
  "metadata": {
    "colab": {
      "name": "nnmnist_v2.ipynb",
      "provenance": [],
      "authorship_tag": "ABX9TyPaEepLzIGGT3qsIKLred9W",
      "include_colab_link": true
    },
    "kernelspec": {
      "name": "python3",
      "display_name": "Python 3"
    },
    "accelerator": "GPU"
  },
  "cells": [
    {
      "cell_type": "markdown",
      "metadata": {
        "id": "view-in-github",
        "colab_type": "text"
      },
      "source": [
        "<a href=\"https://colab.research.google.com/github/sandje00/nn-image-classification/blob/master/nnmnist_v2.ipynb\" target=\"_parent\"><img src=\"https://colab.research.google.com/assets/colab-badge.svg\" alt=\"Open In Colab\"/></a>"
      ]
    },
    {
      "cell_type": "markdown",
      "metadata": {
        "id": "K_SmhNvpXJ3Y",
        "colab_type": "text"
      },
      "source": [
        "# Neural network for recognizing handwritten digits\n",
        "\n",
        "source: [Basic classification: Classify images of clothing](https://www.tensorflow.org/tutorials/keras/classification)\n",
        "\n"
      ]
    },
    {
      "cell_type": "code",
      "metadata": {
        "id": "UMPr0H60YVDU",
        "colab_type": "code",
        "colab": {}
      },
      "source": [
        "import tensorflow as tf\n",
        "import numpy as np\n",
        "import matplotlib.pyplot as plt\n",
        "from tensorflow import keras"
      ],
      "execution_count": 0,
      "outputs": []
    },
    {
      "cell_type": "code",
      "metadata": {
        "id": "SYBFI2ZQYwZ0",
        "colab_type": "code",
        "colab": {}
      },
      "source": [
        "data = keras.datasets.mnist\n",
        "\n",
        "(train_images, train_labels), (test_images, test_labels) = data.load_data()\n",
        "\n",
        "class_names = ['0', '1', '2', '3', '4', '5', '6', '7', '8', '9']"
      ],
      "execution_count": 0,
      "outputs": []
    },
    {
      "cell_type": "markdown",
      "metadata": {
        "id": "cNwqvJ9qbVdm",
        "colab_type": "text"
      },
      "source": [
        "\"Shrinking\" the dataset so it is easier to work with (instead of numbers between 0 and 255, decimal numbers between 0 and 1)"
      ]
    },
    {
      "cell_type": "code",
      "metadata": {
        "id": "px5feI7vaXWH",
        "colab_type": "code",
        "colab": {}
      },
      "source": [
        "train_images = train_images/255.0\n",
        "test_images = test_images/255.0"
      ],
      "execution_count": 0,
      "outputs": []
    },
    {
      "cell_type": "markdown",
      "metadata": {
        "id": "DuJV0jRTd9HH",
        "colab_type": "text"
      },
      "source": [
        "\"Flattening the data\": extracting the inner units, eg. instead of 28x28 array, an array of size 784"
      ]
    },
    {
      "cell_type": "markdown",
      "metadata": {
        "id": "jYOvV2rYfU0r",
        "colab_type": "text"
      },
      "source": [
        "### Defining the model of NN"
      ]
    },
    {
      "cell_type": "code",
      "metadata": {
        "id": "p9PIkRykfXIO",
        "colab_type": "code",
        "colab": {}
      },
      "source": [
        "model = keras.Sequential([\n",
        "    keras.layers.Flatten(input_shape = (28, 28)),   # input layer; flattening the data\n",
        "    keras.layers.Dense(512, activation = \"relu\"),    # hidden layer; fully connected, 512 neurons, activation function is relu\n",
        "    keras.layers.Dense(256, activation = \"relu\"),    # hidden layer; fully connected, 256 neurons, activation function is relu\n",
        "    keras.layers.Dense(128, activation = \"relu\"),    # hidden layer; fully connected, 128 neurons, activation function is relu\n",
        "    keras.layers.Dense(10, activation = \"softmax\")    # output layer; softmax\n",
        "])"
      ],
      "execution_count": 0,
      "outputs": []
    },
    {
      "cell_type": "markdown",
      "metadata": {
        "id": "8aPrlMrs4ipd",
        "colab_type": "text"
      },
      "source": [
        "#### ReLU: Rectified Linear Activation Unit\n",
        "\n",
        "![](https://miro.medium.com/max/2052/0*n_ZGycAljU90iweS.png)\n"
      ]
    },
    {
      "cell_type": "markdown",
      "metadata": {
        "id": "ooQXD84Y9ezz",
        "colab_type": "text"
      },
      "source": [
        "#### Softmax\n",
        "* pick values for each neuron so they all add up to 1"
      ]
    },
    {
      "cell_type": "markdown",
      "metadata": {
        "id": "xP6cx8udiWYo",
        "colab_type": "text"
      },
      "source": [
        "#### Model parameters"
      ]
    },
    {
      "cell_type": "code",
      "metadata": {
        "id": "PM6966-FiZgr",
        "colab_type": "code",
        "colab": {}
      },
      "source": [
        "model.compile(optimizer = \"adam\", loss = \"sparse_categorical_crossentropy\", metrics = [\"accuracy\"])"
      ],
      "execution_count": 0,
      "outputs": []
    },
    {
      "cell_type": "markdown",
      "metadata": {
        "id": "BWZIC4kcjBUb",
        "colab_type": "text"
      },
      "source": [
        "### NN training\n",
        "\n",
        "Epochs - how many times will the NN \"see\" the images"
      ]
    },
    {
      "cell_type": "code",
      "metadata": {
        "id": "XTCY9cYQjJT-",
        "colab_type": "code",
        "outputId": "2bb35354-6db9-420d-d8cc-9e8bf71990c2",
        "colab": {
          "base_uri": "https://localhost:8080/",
          "height": 391
        }
      },
      "source": [
        "model.fit(train_images, train_labels, epochs = 10)"
      ],
      "execution_count": 6,
      "outputs": [
        {
          "output_type": "stream",
          "text": [
            "Train on 60000 samples\n",
            "Epoch 1/10\n",
            "60000/60000 [==============================] - 7s 109us/sample - loss: 0.1968 - acc: 0.9402\n",
            "Epoch 2/10\n",
            "60000/60000 [==============================] - 5s 79us/sample - loss: 0.0861 - acc: 0.9738\n",
            "Epoch 3/10\n",
            "60000/60000 [==============================] - 5s 81us/sample - loss: 0.0636 - acc: 0.9801\n",
            "Epoch 4/10\n",
            "60000/60000 [==============================] - 5s 78us/sample - loss: 0.0484 - acc: 0.9848\n",
            "Epoch 5/10\n",
            "60000/60000 [==============================] - 5s 78us/sample - loss: 0.0380 - acc: 0.9879\n",
            "Epoch 6/10\n",
            "60000/60000 [==============================] - 5s 80us/sample - loss: 0.0329 - acc: 0.9897\n",
            "Epoch 7/10\n",
            "60000/60000 [==============================] - 5s 82us/sample - loss: 0.0296 - acc: 0.9911\n",
            "Epoch 8/10\n",
            "60000/60000 [==============================] - 5s 77us/sample - loss: 0.0243 - acc: 0.9926\n",
            "Epoch 9/10\n",
            "60000/60000 [==============================] - 5s 80us/sample - loss: 0.0236 - acc: 0.9928\n",
            "Epoch 10/10\n",
            "60000/60000 [==============================] - 5s 82us/sample - loss: 0.0202 - acc: 0.9937\n"
          ],
          "name": "stdout"
        },
        {
          "output_type": "execute_result",
          "data": {
            "text/plain": [
              "<tensorflow.python.keras.callbacks.History at 0x7f31bfe3b0b8>"
            ]
          },
          "metadata": {
            "tags": []
          },
          "execution_count": 6
        }
      ]
    },
    {
      "cell_type": "markdown",
      "metadata": {
        "id": "nBojptLwkKNM",
        "colab_type": "text"
      },
      "source": [
        "### NN testing"
      ]
    },
    {
      "cell_type": "code",
      "metadata": {
        "id": "8PSKawiGkM1Z",
        "colab_type": "code",
        "outputId": "75e7731b-7ed1-4ee0-992f-10539763449b",
        "colab": {
          "base_uri": "https://localhost:8080/",
          "height": 51
        }
      },
      "source": [
        "test_loss, test_accuracy = model.evaluate(test_images, test_labels)\n",
        "\n",
        "print(\"Test accuracy: {}\".format(test_accuracy))"
      ],
      "execution_count": 7,
      "outputs": [
        {
          "output_type": "stream",
          "text": [
            "10000/10000 [==============================] - 1s 54us/sample - loss: 0.0922 - acc: 0.9796\n",
            "Test accuracy: 0.9796000123023987\n"
          ],
          "name": "stdout"
        }
      ]
    },
    {
      "cell_type": "code",
      "metadata": {
        "id": "TrBefA9-Yy9d",
        "colab_type": "code",
        "outputId": "64e35734-9e53-46dc-dcee-4b81c01bb75a",
        "colab": {
          "base_uri": "https://localhost:8080/",
          "height": 1000
        }
      },
      "source": [
        "prediction = model.predict(test_images)\n",
        "\n",
        "for i in range(5):\n",
        "    plt.grid(False)\n",
        "    plt.imshow(test_images[i])\n",
        "    plt.xlabel(\"Actual: {}\".format(class_names[test_labels[i]]))\n",
        "    plt.title(\"Prediction: {}\".format(class_names[np.argmax(prediction[i])]))\n",
        "    plt.show()"
      ],
      "execution_count": 8,
      "outputs": [
        {
          "output_type": "display_data",
          "data": {
            "image/png": "[encoded data removed]",
            "text/plain": [
              "<Figure size 432x288 with 1 Axes>"
            ]
          },
          "metadata": {
            "tags": []
          }
        },
        {
          "output_type": "display_data",
          "data": {
            "image/png": "[encoded data removed]",
            "text/plain": [
              "<Figure size 432x288 with 1 Axes>"
            ]
          },
          "metadata": {
            "tags": []
          }
        },
        {
          "output_type": "display_data",
          "data": {
            "image/png": "[encoded data removed]",
            "text/plain": [
              "<Figure size 432x288 with 1 Axes>"
            ]
          },
          "metadata": {
            "tags": []
          }
        },
        {
          "output_type": "display_data",
          "data": {
            "image/png": "[encoded data removed]",
            "text/plain": [
              "<Figure size 432x288 with 1 Axes>"
            ]
          },
          "metadata": {
            "tags": []
          }
        },
        {
          "output_type": "display_data",
          "data": {
            "image/png": "[encoded data removed]",
            "text/plain": [
              "<Figure size 432x288 with 1 Axes>"
            ]
          },
          "metadata": {
            "tags": []
          }
        }
      ]
    }
  ]
}