{
  "nbformat": 4,
  "nbformat_minor": 0,
  "metadata": {
    "colab": {
      "name": "nnmnist_v1.ipynb",
      "provenance": []
    },
    "kernelspec": {
      "name": "python3",
      "display_name": "Python 3"
    }
  },
  "cells": [
    {
      "cell_type": "markdown",
      "metadata": {
        "id": "vWGrQNpuPJUS",
        "colab_type": "text"
      },
      "source": [
        "# Neural network for recognizing handwritten digits\n",
        "\n",
        "Source: [How To Build a Neural Network to Recognize Handwritten Digits with TensorFlow](https://www.digitalocean.com/community/tutorials/how-to-build-a-neural-network-to-recognize-handwritten-digits-with-tensorflow) by **Ellie Birbeck**"
      ]
    },
    {
      "cell_type": "markdown",
      "metadata": {
        "id": "3UGxWI76QJDq",
        "colab_type": "text"
      },
      "source": [
        "### Imports"
      ]
    },
    {
      "cell_type": "code",
      "metadata": {
        "id": "aN4K7js3POtU",
        "colab_type": "code",
        "colab": {}
      },
      "source": [
        "import tensorflow as tf\n",
        "import numpy as np\n",
        "from PIL import Image\n",
        "from tensorflow.examples.tutorials.mnist import input_data\n",
        "from google.colab import files"
      ],
      "execution_count": 0,
      "outputs": []
    },
    {
      "cell_type": "markdown",
      "metadata": {
        "id": "cWpdWiIAR-6X",
        "colab_type": "text"
      },
      "source": [
        "***One-hot-encoding***: represents the labels, i. e. actual digit drawn. Each label is represented with 1D vector of size 10 with the element of the index that corresponds to the digit is set to `1`, while others are set to `0`.\n",
        "\n",
        "Images are represented with 1D vector of size 784 px (28x28) that contains values from 0 to 255, since the pictures are grayscale."
      ]
    },
    {
      "cell_type": "code",
      "metadata": {
        "id": "o5eq9NidQdci",
        "colab_type": "code",
        "colab": {}
      },
      "source": [
        "mnist = input_data.read_data_sets(\"MNIST_data/\", one_hot = True)"
      ],
      "execution_count": 0,
      "outputs": []
    },
    {
      "cell_type": "code",
      "metadata": {
        "colab_type": "code",
        "id": "N8XxoHi1VFlQ",
        "colab": {}
      },
      "source": [
        "n_train = mnist.train.num_examples\n",
        "n_validation = mnist.validation.num_examples\n",
        "n_test = mnist.test.num_examples\n",
        "\n",
        "print(\"Training examples: \" + str(n_train))\n",
        "print(\"Validation examples: \" + str(n_validation))\n",
        "print(\"Testing examples: \" + str(n_test))"
      ],
      "execution_count": 0,
      "outputs": []
    },
    {
      "cell_type": "markdown",
      "metadata": {
        "id": "oH2u58r2V3Qx",
        "colab_type": "text"
      },
      "source": [
        "### Neural network:\n",
        "\n",
        "\n",
        "*   number of layers\n",
        "*   number of units in each layer\n",
        "*   how units are connected between layers\n",
        "\n",
        "Input, output and *hidden* (between Input and Output) layers"
      ]
    },
    {
      "cell_type": "code",
      "metadata": {
        "id": "P-FQUISHWpka",
        "colab_type": "code",
        "colab": {}
      },
      "source": [
        "n_input = 784 # represents 784 (28x28) pixels\n",
        "n_hidden1 = 512\n",
        "n_hidden2 = 256\n",
        "n_hidden3 = 128\n",
        "n_output = 10 # represents recognized digit (0 - 9)"
      ],
      "execution_count": 0,
      "outputs": []
    },
    {
      "cell_type": "markdown",
      "metadata": {
        "id": "At-W6txOXbVe",
        "colab_type": "text"
      },
      "source": [
        "### Hyperparameters (NN config)\n",
        "\n",
        "**Learning rate** represents how much the parameters will adjust at each step of the learning process (after each network traversal weights are slightly adjusted).\n",
        "**The number of iterations** represents how many times we go through the training step.\n",
        "**The batch size** represents how many training examples we are using at each step\n",
        "**The dropout variable** in the final hidden layer to give each unit a 50% chance of being eliminated at every training step (overfitting prevention)."
      ]
    },
    {
      "cell_type": "code",
      "metadata": {
        "id": "8C2ZyjfNY8HL",
        "colab_type": "code",
        "colab": {}
      },
      "source": [
        "learning_rate = 1e-4\n",
        "n_iterations = 1000\n",
        "batch_size = 128\n",
        "dropout = 0.5"
      ],
      "execution_count": 0,
      "outputs": []
    },
    {
      "cell_type": "markdown",
      "metadata": {
        "id": "5aqwWF16ZnP9",
        "colab_type": "text"
      },
      "source": [
        "### Building the Tensorflow Graph"
      ]
    },
    {
      "cell_type": "code",
      "metadata": {
        "id": "Ek8nfNL9ZsSI",
        "colab_type": "code",
        "colab": {}
      },
      "source": [
        "X = tf.placeholder(\"float\", [None, n_input]) # feeding in an undefined number of 784-pixel images\n",
        "Y = tf.placeholder(\"float\", [None, n_output]) # undefined number of label outputs, with 10 possible classes\n",
        "keep_prob = tf.placeholder(tf.float32) # controlling the dropout rate"
      ],
      "execution_count": 0,
      "outputs": []
    },
    {
      "cell_type": "markdown",
      "metadata": {
        "id": "uNUZM-FparFl",
        "colab_type": "text"
      },
      "source": [
        "`weight` and `bias` - will be updated within the training process"
      ]
    },
    {
      "cell_type": "code",
      "metadata": {
        "id": "XSVDd-mhbA2z",
        "colab_type": "code",
        "colab": {}
      },
      "source": [
        "weights = {\n",
        "    'w1': tf.Variable(tf.truncated_normal([n_input, n_hidden1], stddev=0.1)),\n",
        "    'w2': tf.Variable(tf.truncated_normal([n_hidden1, n_hidden2], stddev=0.1)),\n",
        "    'w3': tf.Variable(tf.truncated_normal([n_hidden2, n_hidden3], stddev=0.1)),\n",
        "    'out': tf.Variable(tf.truncated_normal([n_hidden3, n_output], stddev=0.1)),\n",
        "}\n",
        "\n",
        "biases = {\n",
        "    'b1': tf.Variable(tf.constant(0.1, shape=[n_hidden1])),\n",
        "    'b2': tf.Variable(tf.constant(0.1, shape=[n_hidden2])),\n",
        "    'b3': tf.Variable(tf.constant(0.1, shape=[n_hidden3])),\n",
        "    'out': tf.Variable(tf.constant(0.1, shape=[n_output]))\n",
        "}"
      ],
      "execution_count": 0,
      "outputs": []
    },
    {
      "cell_type": "markdown",
      "metadata": {
        "id": "dgjVw9wbb9HM",
        "colab_type": "text"
      },
      "source": [
        "Each hidden layer executes matrix multiplication on the previous layer’s outputs and the current layer’s weights, and adds the bias to these values. At the last hidden layer, a dropout operation using `keep_prob` value of 0.5 will be applied"
      ]
    },
    {
      "cell_type": "code",
      "metadata": {
        "id": "YbBX2g2Kb72x",
        "colab_type": "code",
        "colab": {}
      },
      "source": [
        "layer_1 = tf.add(tf.matmul(X, weights['w1']), biases['b1'])\n",
        "layer_2 = tf.add(tf.matmul(layer_1, weights['w2']), biases['b2'])\n",
        "layer_3 = tf.add(tf.matmul(layer_2, weights['w3']), biases['b3'])\n",
        "layer_drop = tf.nn.dropout(layer_3, keep_prob)\n",
        "output_layer = tf.matmul(layer_3, weights['out']) + biases['out']"
      ],
      "execution_count": 0,
      "outputs": []
    },
    {
      "cell_type": "markdown",
      "metadata": {
        "id": "a2J72XB6cjMe",
        "colab_type": "text"
      },
      "source": [
        "**Cross entropy** - the loss function that we want to optimize; quantifies the difference between two probability distributions (the predictions and the labels)"
      ]
    },
    {
      "cell_type": "code",
      "metadata": {
        "id": "-j1PhHT4c7kG",
        "colab_type": "code",
        "colab": {}
      },
      "source": [
        "cross_entropy = tf.reduce_mean(\n",
        "    tf.nn.softmax_cross_entropy_with_logits(\n",
        "        labels=Y, logits=output_layer\n",
        "        ))\n",
        "train_step = tf.train.AdamOptimizer(1e-4).minimize(cross_entropy)"
      ],
      "execution_count": 0,
      "outputs": []
    },
    {
      "cell_type": "markdown",
      "metadata": {
        "id": "ozQ0TXZYdMbM",
        "colab_type": "text"
      },
      "source": [
        "**Adam optimizer** - he optimization algorithm which will be used to minimize the loss function"
      ]
    },
    {
      "cell_type": "code",
      "metadata": {
        "id": "BZJVvI1ydVsH",
        "colab_type": "code",
        "colab": {}
      },
      "source": [
        "train_step = tf.train.AdamOptimizer(1e-4).minimize(cross_entropy)"
      ],
      "execution_count": 0,
      "outputs": []
    },
    {
      "cell_type": "markdown",
      "metadata": {
        "id": "al0_wgM3eYlj",
        "colab_type": "text"
      },
      "source": [
        "### Training and testing"
      ]
    },
    {
      "cell_type": "code",
      "metadata": {
        "id": "CAxzKtNWecVU",
        "colab_type": "code",
        "colab": {}
      },
      "source": [
        "# which images are being predicted correctly by looking at the output_layer (predictions) and Y (labels)\n",
        "correct_pred = tf.equal(tf.argmax(output_layer, 1), tf.argmax(Y, 1))\n",
        "accuracy = tf.reduce_mean(tf.cast(correct_pred, tf.float32))\n",
        "\n",
        "# init the tf session\n",
        "init = tf.global_variables_initializer()\n",
        "sess = tf.Session()\n",
        "sess.run(init)"
      ],
      "execution_count": 0,
      "outputs": []
    },
    {
      "cell_type": "markdown",
      "metadata": {
        "id": "hA3DCgtLfiBx",
        "colab_type": "text"
      },
      "source": [
        "#### For a `n_iterations`:\n",
        "* Propagate values forward through the network\n",
        "* Compute the loss\n",
        "* Propagate values backward through the network\n",
        "* Update the parameters"
      ]
    },
    {
      "cell_type": "code",
      "metadata": {
        "id": "I84155r4gNs-",
        "colab_type": "code",
        "colab": {}
      },
      "source": [
        "# mini batches training\n",
        "for i in range(n_iterations):\n",
        "    batch_x, batch_y = mnist.train.next_batch(batch_size)\n",
        "    sess.run(train_step, feed_dict={\n",
        "        X: batch_x, Y: batch_y, keep_prob: dropout\n",
        "        })\n",
        "\n",
        "    # each 100 iterations print loss and accuracy\n",
        "    if i % 100 == 0:\n",
        "        minibatch_loss, minibatch_accuracy = sess.run(\n",
        "            [cross_entropy, accuracy],\n",
        "            feed_dict={X: batch_x, Y: batch_y, keep_prob: 1.0}\n",
        "            )\n",
        "        print(\n",
        "            \"Iteration\",\n",
        "            str(i),\n",
        "            \"\\t| Loss =\",\n",
        "            str(minibatch_loss),\n",
        "            \"\\t| Accuracy =\",\n",
        "            str(minibatch_accuracy)\n",
        "            )"
      ],
      "execution_count": 0,
      "outputs": []
    },
    {
      "cell_type": "code",
      "metadata": {
        "id": "AOMxqZETgz-i",
        "colab_type": "code",
        "colab": {}
      },
      "source": [
        "test_accuracy = sess.run(accuracy, feed_dict={X: mnist.test.images, Y: mnist.test.labels, keep_prob: 1.0})\n",
        "print(\"\\nAccuracy on test set:\", test_accuracy)"
      ],
      "execution_count": 0,
      "outputs": []
    },
    {
      "cell_type": "markdown",
      "metadata": {
        "id": "wuCQwf9s_0MN",
        "colab_type": "text"
      },
      "source": [
        "### Demo"
      ]
    },
    {
      "cell_type": "code",
      "metadata": {
        "id": "qqbsY6cDAlC4",
        "colab_type": "code",
        "colab": {}
      },
      "source": [
        "# Uploading the test image\n",
        "files.upload()"
      ],
      "execution_count": 0,
      "outputs": []
    },
    {
      "cell_type": "code",
      "metadata": {
        "id": "VQQ40qhTA4KC",
        "colab_type": "code",
        "colab": {}
      },
      "source": [
        "img = np.invert(Image.open(\"test_img.png\").convert('L')).ravel()"
      ],
      "execution_count": 0,
      "outputs": []
    },
    {
      "cell_type": "code",
      "metadata": {
        "id": "JmdLIkl0Bsi6",
        "colab_type": "code",
        "colab": {}
      },
      "source": [
        "prediction = sess.run(tf.argmax(output_layer, 1), feed_dict={X: [img]})\n",
        "print (\"Prediction for test image:\", np.squeeze(prediction))"
      ],
      "execution_count": 0,
      "outputs": []
    }
  ]
}